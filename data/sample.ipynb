{
 "cells": [
  {
   "cell_type": "code",
   "execution_count": 6,
   "metadata": {},
   "outputs": [
    {
     "name": "stdout",
     "output_type": "stream",
     "text": [
      "The JSON file contains a list with 2427 elements.\n",
      "Sampled data saved to ./book/sample_test.json\n"
     ]
    }
   ],
   "source": [
    "import json\n",
    "import random\n",
    "\n",
    "# Define file paths\n",
    "json_file_path = \"./book/test.json\"\n",
    "sample_output_path = \"./book/sample_test.json\"\n",
    "\n",
    "# Open and load the JSON file\n",
    "with open(json_file_path, 'r') as file:\n",
    "    data = json.load(file)\n",
    "\n",
    "# Check if the data is a list and count its length\n",
    "print(\"The JSON file contains a list with\", len(data), \"elements.\")\n",
    "\n",
    "# Ensure there are at least 500 elements to sample from\n",
    "if len(data) >= 400:\n",
    "    sample_data = random.sample(data, 400)\n",
    "else:\n",
    "    print(\"Warning: The list contains fewer than 500 elements. Using all available elements.\")\n",
    "    sample_data = data[:]\n",
    "\n",
    "# Save the sampled data as a new JSON file\n",
    "with open(sample_output_path, 'w') as out_file:\n",
    "    json.dump(sample_data, out_file, indent=4)\n",
    "\n",
    "print(\"Sampled data saved to\", sample_output_path)\n"
   ]
  },
  {
   "cell_type": "code",
   "execution_count": null,
   "metadata": {},
   "outputs": [],
   "source": []
  }
 ],
 "metadata": {
  "kernelspec": {
   "display_name": "tallrec",
   "language": "python",
   "name": "python3"
  },
  "language_info": {
   "codemirror_mode": {
    "name": "ipython",
    "version": 3
   },
   "file_extension": ".py",
   "mimetype": "text/x-python",
   "name": "python",
   "nbconvert_exporter": "python",
   "pygments_lexer": "ipython3",
   "version": "3.10.16"
  }
 },
 "nbformat": 4,
 "nbformat_minor": 2
}
