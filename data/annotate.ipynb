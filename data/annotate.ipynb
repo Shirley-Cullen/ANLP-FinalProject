{
 "cells": [
  {
   "cell_type": "code",
   "execution_count": null,
   "metadata": {},
   "outputs": [],
   "source": [
    "# annotation prompt\n",
    "\"\"\"\n",
    "Help me annotate the data for our recommendation system, the \"input\" contains previous user interation and the question, don't modify the input and instruction, instead, add some explanation about the reason for the recommend \"yes\" or \"no\"\n",
    "\"\"\""
   ]
  },
  {
   "cell_type": "code",
   "execution_count": 4,
   "metadata": {},
   "outputs": [
    {
     "name": "stdout",
     "output_type": "stream",
     "text": [
      "The JSON file contains a list with 1000 elements.\n"
     ]
    }
   ],
   "source": [
    "# Clean annotated data\n",
    "import json\n",
    "# count json\n",
    "path = \"./movie/test_annotated.json\"\n",
    "output_path = \"./movie/test_annotated_cleaned.json\"\n",
    "\n",
    "# Open and load the JSON file\n",
    "with open(path, 'r') as file:\n",
    "    data = json.load(file)\n",
    "\n",
    "# Check if the data is a list and count its length\n",
    "print(\"The JSON file contains a list with\", len(data), \"elements.\")\n",
    "\n",
    "for dp in data:\n",
    "    dp[\"explanation\"] = dp[\"explanation\"].split(\"Explanation\")[0]\n",
    "    dp[\"explanation\"] = dp[\"explanation\"].split(\"\\n\")[0]\n",
    "    dp[\"explanation\"] = dp[\"explanation\"].split(\"No\")[0]\n",
    "    dp[\"explanation\"] = dp[\"explanation\"].split(\"Yes\")[0]\n",
    "    dp[\"explanation\"] = dp[\"explanation\"].strip('\"')\n",
    "# Save the sampled data as a new JSON file\n",
    "with open(output_path, 'w') as out_file:\n",
    "    json.dump(data, out_file, indent=4)"
   ]
  },
  {
   "cell_type": "code",
   "execution_count": null,
   "metadata": {},
   "outputs": [],
   "source": []
  }
 ],
 "metadata": {
  "kernelspec": {
   "display_name": "tallrec",
   "language": "python",
   "name": "python3"
  },
  "language_info": {
   "codemirror_mode": {
    "name": "ipython",
    "version": 3
   },
   "file_extension": ".py",
   "mimetype": "text/x-python",
   "name": "python",
   "nbconvert_exporter": "python",
   "pygments_lexer": "ipython3",
   "version": "3.10.16"
  }
 },
 "nbformat": 4,
 "nbformat_minor": 2
}
