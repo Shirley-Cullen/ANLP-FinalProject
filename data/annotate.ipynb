{
 "cells": [
  {
   "cell_type": "code",
   "execution_count": null,
   "metadata": {},
   "outputs": [],
   "source": [
    "# annotation prompt\n",
    "\"\"\"\n",
    "Help me annotate the data for our recommendation system, the \"input\" contains previous user interation and the question, don't modify the input and instruction, instead, add some explanation about the reason for the recommend \"yes\" or \"no\"\n",
    "\"\"\""
   ]
  }
 ],
 "metadata": {
  "kernelspec": {
   "display_name": "base",
   "language": "python",
   "name": "python3"
  },
  "language_info": {
   "name": "python",
   "version": "3.10.9"
  }
 },
 "nbformat": 4,
 "nbformat_minor": 2
}
